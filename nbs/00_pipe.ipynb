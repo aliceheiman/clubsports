{
 "cells": [
  {
   "cell_type": "markdown",
   "metadata": {},
   "source": [
    "# pipe\n",
    "\n",
    "> Takes information from the Stanford Club Sports website and makes it available in code for a standalone application. Useful for websites."
   ]
  },
  {
   "cell_type": "code",
   "execution_count": null,
   "metadata": {},
   "outputs": [],
   "source": [
    "#| default_exp pipe"
   ]
  },
  {
   "cell_type": "code",
   "execution_count": null,
   "metadata": {},
   "outputs": [],
   "source": [
    "#| hide\n",
    "from nbdev.showdoc import *\n",
    "from fastcore.test import *"
   ]
  },
  {
   "cell_type": "code",
   "execution_count": null,
   "metadata": {},
   "outputs": [],
   "source": [
    "#| export\n",
    "import requests\n",
    "from bs4 import BeautifulSoup\n",
    "from urllib.parse import urlparse\n",
    "from datetime import datetime\n",
    "import os, re, json"
   ]
  },
  {
   "cell_type": "code",
   "execution_count": null,
   "metadata": {},
   "outputs": [],
   "source": [
    "#| export\n",
    "#| hide\n",
    "def get_page(url: str):\n",
    "    \"Get BS4 soup object and base url helper\"\n",
    "    # Get the base URL\n",
    "    parsed = urlparse(url)\n",
    "    base_url = f\"{parsed.scheme}://{parsed.netloc}\"\n",
    "\n",
    "    # Query the website\n",
    "    response = requests.get(url)\n",
    "    response.raise_for_status()\n",
    "    soup = BeautifulSoup(response.text, \"html.parser\")\n",
    "    return base_url, soup"
   ]
  },
  {
   "cell_type": "code",
   "execution_count": null,
   "metadata": {},
   "outputs": [],
   "source": [
    "#| export\n",
    "def get_roster(roster_url: str):\n",
    "    \"Get a formatted Club Sports roster\"\n",
    "\n",
    "    base_url, soup = get_page(roster_url)\n",
    "\n",
    "    # Get roster\n",
    "    coaches_section = soup.find(\"section\", id=\"sidearm-roster-coaches\")\n",
    "    coaches = []\n",
    "    for li in coaches_section.select(\"li.sidearm-roster-coach\"):\n",
    "        title = li.select_one(\".sidearm-roster-coach-title span\")\n",
    "        name = li.select_one(\".sidearm-roster-coach-name p\")\n",
    "        link = li.select_one(\".sidearm-roster-coach-link a\")\n",
    "\n",
    "        coaches.append({\n",
    "            \"title\": title.text.strip() if title else None,\n",
    "            \"name\": name.text.strip() if name else None,\n",
    "            \"profile_url\": os.path.join(base_url + link['href']) if link and link['href'] else None,\n",
    "        })\n",
    "\n",
    "    # TODO: This page may get updated with players, but as of now for cycling this is not relevant.\n",
    "\n",
    "    return coaches"
   ]
  },
  {
   "cell_type": "markdown",
   "metadata": {},
   "source": [
    "Let's try out this function with the Stanford Cycling team."
   ]
  },
  {
   "cell_type": "code",
   "execution_count": null,
   "metadata": {},
   "outputs": [
    {
     "data": {
      "text/plain": [
       "{'title': 'Head Coach',\n",
       " 'name': 'Adrian Bennett',\n",
       " 'profile_url': 'https://stanfordclubsports.com/sports/cycling/roster/coaches/adrian-bennett/255'}"
      ]
     },
     "execution_count": null,
     "metadata": {},
     "output_type": "execute_result"
    }
   ],
   "source": [
    "roster_url = \"https://stanfordclubsports.com/sports/cycling/roster/\"\n",
    "get_roster(roster_url)[0]"
   ]
  },
  {
   "cell_type": "code",
   "execution_count": null,
   "metadata": {},
   "outputs": [],
   "source": [
    "#| export\n",
    "def get_staff(staff_url: str):\n",
    "    \"Get and format Club Sport staff\"\n",
    "    \n",
    "    # Get page\n",
    "    base_url, soup = get_page(staff_url)\n",
    "    rows = soup.select(\"tr\")\n",
    "    headers = [th.get_text(strip=True).lower().replace(\" \", \"_\") for th in rows[0].find_all(\"th\")]\n",
    "    \n",
    "    # Parse Staff Table\n",
    "    staff = []\n",
    "    for row in rows[1:]:\n",
    "        if \"sidearm-coaches-coach\" not in row.get(\"class\", []):\n",
    "            continue\n",
    "\n",
    "        cells = row.find_all([\"th\", \"td\"])\n",
    "        data = {}\n",
    "        for i, header in enumerate(headers):\n",
    "            if i >= len(cells):\n",
    "                data[header] = None\n",
    "                continue\n",
    "\n",
    "            cell = cells[i]            \n",
    "            if i == 0: # First column (name) with profile link\n",
    "                a = cell.find(\"a\")\n",
    "                if a:\n",
    "                    data[\"name\"] = a.get_text(strip=True)\n",
    "                    href = a.get(\"href\", \"\")\n",
    "                    data[\"profile_url\"] = href if href.startswith(\"http\") else base_url + href\n",
    "                else:\n",
    "                    data[\"name\"] = cell.get_text(strip=True)\n",
    "                    data[\"profile_url\"] = None\n",
    "            else: # Other columns\n",
    "                data[header] = cell.get_text(strip=True)\n",
    "\n",
    "        staff.append(data)\n",
    "        \n",
    "    return staff"
   ]
  },
  {
   "cell_type": "markdown",
   "metadata": {},
   "source": [
    "Let's try this with the Stanford Cycling Team staff:"
   ]
  },
  {
   "cell_type": "code",
   "execution_count": null,
   "metadata": {},
   "outputs": [
    {
     "data": {
      "text/plain": [
       "{'name': 'George Wehner',\n",
       " 'profile_url': 'https://stanfordclubsports.com/sports/cycling/roster/staff/george-wehner/18',\n",
       " 'title': 'President',\n",
       " 'email_address': 'gtwehner@stanford.edu',\n",
       " 'phone': ''}"
      ]
     },
     "execution_count": null,
     "metadata": {},
     "output_type": "execute_result"
    }
   ],
   "source": [
    "staff_url = \"https://stanfordclubsports.com/sports/cycling/coaches\"\n",
    "get_staff(staff_url)[3]"
   ]
  },
  {
   "cell_type": "code",
   "execution_count": null,
   "metadata": {},
   "outputs": [],
   "source": [
    "#| export\n",
    "def get_academic_year():\n",
    "    \"Helper to get the academic year\"\n",
    "    now = datetime.now()\n",
    "    if now.month >= 9:  # September or later\n",
    "        return f\"{now.year}-{str(now.year + 1)[-2:]}\"\n",
    "    else:\n",
    "        return f\"{now.year - 1}-{str(now.year)[-2:]}\""
   ]
  },
  {
   "cell_type": "code",
   "execution_count": null,
   "metadata": {},
   "outputs": [
    {
     "data": {
      "text/plain": [
       "'2024-25'"
      ]
     },
     "execution_count": null,
     "metadata": {},
     "output_type": "execute_result"
    }
   ],
   "source": [
    "get_academic_year()"
   ]
  },
  {
   "cell_type": "code",
   "execution_count": null,
   "metadata": {},
   "outputs": [],
   "source": [
    "#| export\n",
    "def get_schedule(schedule_url:str, season:str=None, naive=False):\n",
    "    \"Get and parse a club sport schedule table.\"\n",
    "\n",
    "    # Default to current season\n",
    "    if not season:\n",
    "        season = get_academic_year()\n",
    "\n",
    "    # Query the page\n",
    "    url = f\"{schedule_url}/{season}?grid=true\"\n",
    "    base_url, soup = get_page(url)\n",
    "\n",
    "    # Get the events rows\n",
    "    rows = soup.select(\"tr\", class_=\"sidearm-schedule-game\")\n",
    "    if not rows or len(rows) < 2:\n",
    "        raise ValueError(\"No schedule rows found\")\n",
    "\n",
    "    # First row contains the headers\n",
    "    headers = [th.get_text(strip=True).lower().replace(\" \", \"_\") for th in rows[0].find_all(\"th\")]\n",
    "\n",
    "    schedule = []\n",
    "    for row in rows[1:]:\n",
    "        # Check valid row\n",
    "        if \"sidearm-schedule-game\" not in row.get(\"class\", []):\n",
    "            continue  # Skip non-game rows\n",
    "        cells = row.find_all(\"td\")\n",
    "        if not cells:\n",
    "            continue\n",
    "        \n",
    "        # Naive == Match Cell Contents\n",
    "        if naive:\n",
    "            row_data = {h: cells[i].get_text().strip() for i,h in enumerate(headers)}\n",
    "            schedule.append(row_data)\n",
    "            continue\n",
    "        \n",
    "        # Non-Naive == Actually get the link address of <a> tags\n",
    "        row_data = {}\n",
    "        for i, h in enumerate(headers):\n",
    "            if i >= len(cells):\n",
    "                row_data[h] = None\n",
    "                continue\n",
    "\n",
    "            cell = cells[i]\n",
    "            link = cell.find(\"a\")\n",
    "            \n",
    "            if link and link.has_attr(\"href\"):\n",
    "                href = link[\"href\"]\n",
    "                if not href.startswith(\"http\"): # relative URLs absolute\n",
    "                    href = base_url + href\n",
    "                row_data[h] = href\n",
    "            else:\n",
    "                row_data[h] = cell.get_text(strip=True)\n",
    "        schedule.append(row_data)\n",
    "        \n",
    "    return schedule"
   ]
  },
  {
   "cell_type": "markdown",
   "metadata": {},
   "source": [
    "Let's try this out for the cycling schedule 2022-2023 season. This is the actual table from the Stanford Club Sports website:\n",
    "\n",
    "![Stanford Cycling Season 2022-23 Schedule](assets/schedule-example.png)\n",
    "\n",
    "Now we fetch the schedule and display the second row:"
   ]
  },
  {
   "cell_type": "code",
   "execution_count": null,
   "metadata": {},
   "outputs": [
    {
     "data": {
      "text/plain": [
       "{'date': 'October 30, 2022 (Sunday)',\n",
       " 'time': '',\n",
       " 'at': 'Away',\n",
       " 'opponent': 'Surf City Cyclocross',\n",
       " 'location': 'Santa Cruz, CA',\n",
       " 'tv': '',\n",
       " 'radio': '',\n",
       " 'result': '4 Riders with Top 10 finishes',\n",
       " 'links': 'https://cyclo-x.com/results'}"
      ]
     },
     "execution_count": null,
     "metadata": {},
     "output_type": "execute_result"
    }
   ],
   "source": [
    "schedule = get_schedule(\"https://stanfordclubsports.com/sports/cycling/schedule\", \"2022-23\")\n",
    "schedule[1]"
   ]
  },
  {
   "cell_type": "markdown",
   "metadata": {},
   "source": [
    "Notice the `links` field. It actually fetched the link. If we want to just get the cell contents, we can set `naive=True`."
   ]
  },
  {
   "cell_type": "code",
   "execution_count": null,
   "metadata": {},
   "outputs": [
    {
     "data": {
      "text/plain": [
       "'Event Results'"
      ]
     },
     "execution_count": null,
     "metadata": {},
     "output_type": "execute_result"
    }
   ],
   "source": [
    "schedule = get_schedule(\"https://stanfordclubsports.com/sports/cycling/schedule\", \"2022-23\", naive=True)\n",
    "schedule[1][\"links\"]"
   ]
  },
  {
   "cell_type": "code",
   "execution_count": null,
   "metadata": {},
   "outputs": [],
   "source": [
    "#| hide\n",
    "def get_story_component_id(home_url: str):\n",
    "    \"Get story component id, which may or may not be useful in the future.\"\n",
    "    sc = soup.find(\"stories-component\").get(\"params\")\n",
    "    sc_id = re.search(r\"id:\\s*'([^']+)'\", sc).group(1)\n",
    "    return sc_id"
   ]
  },
  {
   "cell_type": "code",
   "execution_count": null,
   "metadata": {},
   "outputs": [],
   "source": [
    "#| export\n",
    "def get_stories(home_url: str):\n",
    "    \"Get story blurbs from Club Sports website\"\n",
    "\n",
    "    # Fetch page\n",
    "    base_url, soup = get_page(home_url)\n",
    "\n",
    "    # The stories are currently stored in a JavaScript Object\n",
    "    ss = soup.find(\"div\", class_=\"s-stories__inner\")\n",
    "    script = ss.find(\"script\")\n",
    "    obj_str = re.search(r\"var obj\\s*=\\s*(\\{.*\\});\", script.string, re.DOTALL)\n",
    "    obj = json.loads(obj_str.group(1))\n",
    "\n",
    "    stories = []\n",
    "    for s_obj in obj[\"data\"]:\n",
    "        t_soup = BeautifulSoup(s_obj[\"teaser\"], \"html.parser\")\n",
    "        teaser = t_soup.get_text(strip=True)\n",
    "\n",
    "        story = {\n",
    "            \"title\": s_obj[\"content_title\"],\n",
    "            \"date\": s_obj[\"content_date\"],\n",
    "            \"story_url\": s_obj[\"content_url\"],\n",
    "            \"image_url\": s_obj[\"content_image_url\"],\n",
    "            \"teaser\": teaser\n",
    "        }\n",
    "        stories.append(story)\n",
    "\n",
    "    return stories"
   ]
  },
  {
   "cell_type": "markdown",
   "metadata": {},
   "source": [
    "Let's try with a few different teams, like Stanford Cycling and Women's Rugby."
   ]
  },
  {
   "cell_type": "code",
   "execution_count": null,
   "metadata": {},
   "outputs": [
    {
     "data": {
      "text/plain": [
       "[{'title': '2025 USA Cycling Collegiate Road National Championships',\n",
       "  'date': '2025-07-05T16:01:00',\n",
       "  'story_url': 'https://stanfordclubsports.com/news/2025/7/5/2025-usa-cycling-collegiate-road-national-championships.aspx',\n",
       "  'image_url': 'https://stanfordclubsports.com/images/2025/7/5/nationals.jpg',\n",
       "  'teaser': 'May 2-4, 2025'}]"
      ]
     },
     "execution_count": null,
     "metadata": {},
     "output_type": "execute_result"
    }
   ],
   "source": [
    "home_url = \"https://stanfordclubsports.com/sports/cycling\"\n",
    "get_stories(home_url)[:2]"
   ]
  },
  {
   "cell_type": "code",
   "execution_count": null,
   "metadata": {},
   "outputs": [
    {
     "data": {
      "text/plain": [
       "[{'title': \"Stanford Women's Rugby Crowned CRAA Challenger 7s National Champions\",\n",
       "  'date': '2025-05-03T18:40:00',\n",
       "  'story_url': 'https://stanfordclubsports.com/news/2025/5/3/stanford-womens-rugby-crowned-craa-challenger-7s-national-champions.aspx',\n",
       "  'image_url': 'https://stanfordclubsports.com/images/2025/5/4/Natty_7s_SWR.jpeg',\n",
       "  'teaser': 'May 3, 2025'},\n",
       " {'title': \"Stanford Women's Rugby Advance to the Semi Finals in the CRAA 7s National Championship\",\n",
       "  'date': '2025-05-02T20:54:00',\n",
       "  'story_url': 'https://stanfordclubsports.com/news/2025/5/2/stanford-womens-rugby-advance-to-the-semi-finals-in-the-craa-7s-national-championship.aspx',\n",
       "  'image_url': 'https://stanfordclubsports.com/images/2025/4/5/0J5A4952_copy.jpg',\n",
       "  'teaser': 'May 2, 2025'}]"
      ]
     },
     "execution_count": null,
     "metadata": {},
     "output_type": "execute_result"
    }
   ],
   "source": [
    "home_url = \"https://stanfordclubsports.com/sports/womens-rugby\"\n",
    "get_stories(home_url)[:2]"
   ]
  },
  {
   "cell_type": "code",
   "execution_count": null,
   "metadata": {},
   "outputs": [],
   "source": [
    "#| hide\n",
    "import nbdev; nbdev.nbdev_export()"
   ]
  }
 ],
 "metadata": {
  "kernelspec": {
   "display_name": "python3",
   "language": "python",
   "name": "python3"
  }
 },
 "nbformat": 4,
 "nbformat_minor": 4
}
